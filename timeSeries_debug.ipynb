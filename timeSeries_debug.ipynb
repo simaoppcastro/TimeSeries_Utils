{
  "nbformat": 4,
  "nbformat_minor": 0,
  "metadata": {
    "colab": {
      "name": "timeSeries_debug.ipynb",
      "provenance": [],
      "authorship_tag": "ABX9TyO2Q1cNnfePzSfsKKYSx5xD",
      "include_colab_link": true
    },
    "kernelspec": {
      "name": "python3",
      "display_name": "Python 3"
    }
  },
  "cells": [
    {
      "cell_type": "markdown",
      "metadata": {
        "id": "view-in-github",
        "colab_type": "text"
      },
      "source": [
        "<a href=\"https://colab.research.google.com/github/simaoppcastro/ML_MasterThesis/blob/main/timeSeries_debug.ipynb\" target=\"_parent\"><img src=\"https://colab.research.google.com/assets/colab-badge.svg\" alt=\"Open In Colab\"/></a>"
      ]
    },
    {
      "cell_type": "code",
      "metadata": {
        "id": "8sljqrqLyH_p"
      },
      "source": [
        "import os\r\n",
        "import datetime\r\n",
        "\r\n",
        "import IPython\r\n",
        "import IPython.display\r\n",
        "import matplotlib as mpl\r\n",
        "import matplotlib.pyplot as plt\r\n",
        "import numpy as np\r\n",
        "import pandas as pd\r\n",
        "import seaborn as sns\r\n",
        "import tensorflow as tf\r\n",
        "import _utils as ut\r\n",
        "\r\n",
        "'''\r\n",
        "Convolutional and Recurrent Neural Networks (CNNs and RNNs).\r\n",
        "\r\n",
        "Forecast for a single timestep:\r\n",
        "    A single feature.\r\n",
        "    All features.\r\n",
        "Forecast multiple steps:\r\n",
        "    Single-shot: Make the predictions all at once.\r\n",
        "    Autoregressive: Make one prediction at a time and feed the output back to the model.\r\n",
        "'''\r\n",
        "\r\n",
        "mpl.rcParams['figure.figsize'] = (8, 6)\r\n",
        "mpl.rcParams['axes.grid'] = False\r\n",
        "\r\n",
        "#  weather time series dataset recorded by the Max Planck Institute for Biogeochemistry.\r\n",
        "zip_path = tf.keras.utils.get_file(\r\n",
        "    origin='https://storage.googleapis.com/tensorflow/tf-keras-datasets/jena_climate_2009_2016.csv.zip',\r\n",
        "    fname='jena_climate_2009_2016.csv.zip',\r\n",
        "    extract=True)\r\n",
        "csv_path, _ = os.path.splitext(zip_path)\r\n",
        "\r\n",
        "df = pd.read_csv(csv_path)\r\n",
        "# slice [start:stop:step], starting from index 5 take every 6th record.\r\n",
        "df = df[5::6]\r\n",
        "\r\n",
        "# sub-sampling the data from 10 minute intervals to 1h\r\n",
        "date_time = pd.to_datetime(df.pop('Date Time'), format='%d.%m.%Y %H:%M:%S')\r\n",
        "\r\n",
        "# first results from dataset already loaded\r\n",
        "print(df.head())\r\n",
        "\r\n",
        "print(ut.bcolors.ENDLINE)\r\n",
        "\r\n",
        "#PLOT\r\n",
        "#  few features over time\r\n",
        "plot_cols = ['T (degC)', 'p (mbar)', 'rho (g/m**3)']\r\n",
        "plot_features = df[plot_cols]\r\n",
        "plot_features.index = date_time\r\n",
        "_ = plot_features.plot(subplots=True)\r\n",
        "\r\n",
        "plot_features = df[plot_cols][:480]\r\n",
        "plot_features.index = date_time[:480]\r\n",
        "_ = plot_features.plot(subplots=True)\r\n",
        "\r\n",
        "# Inspect and cleanup\r\n",
        "'''\r\n",
        "df.describe().transpose()\r\n",
        "\r\n",
        "wv = df['wv (m/s)']\r\n",
        "bad_wv = wv == -9999.0\r\n",
        "wv[bad_wv] = 0.0\r\n",
        "\r\n",
        "max_wv = df['max. wv (m/s)']\r\n",
        "bad_max_wv = max_wv == -9999.0\r\n",
        "max_wv[bad_max_wv] = 0.0\r\n",
        "\r\n",
        "# The above inplace edits are reflected in the DataFrame\r\n",
        "df['wv (m/s)'].min()\r\n",
        "\r\n",
        "\r\n",
        "'''"
      ],
      "execution_count": null,
      "outputs": []
    }
  ]
}